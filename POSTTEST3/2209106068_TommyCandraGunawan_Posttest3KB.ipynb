{
 "cells": [
  {
   "cell_type": "markdown",
   "metadata": {},
   "source": [
    "## POSTTEST 3 KB\n",
    "TOMMY CANDRA GUNAWAN\n",
    "2209106068\n",
    "INFORMATIKA B1 2022"
   ]
  },
  {
   "cell_type": "markdown",
   "metadata": {},
   "source": [
    "* Import Paket Pandas dan Membaca Dataset\n",
    "\n",
    "Agar bisa menggunakan paket pandas kita perlu melakukan import paker terlebih dahulu, dan kita dapar mengimpor pandas sebagai pd agar lebih singkat.Setelah itu kita deklarasikan DataFrame (df) dengan pd.read_csv untuk membaca file csv agar lebih mudah dan efisien."
   ]
  },
  {
   "cell_type": "code",
   "execution_count": 6,
   "metadata": {},
   "outputs": [],
   "source": [
    "import pandas as pd\n",
    "df = pd.read_csv(\"laptop_pricedataset.csv\")\n",
    "import matplotlib.pyplot as plt\n",
    "import seaborn as sns\n",
    "from sklearn.preprocessing import MinMaxScaler\n",
    "from sklearn.preprocessing import StandardScaler\n",
    "from sklearn.model_selection import train_test_split #untuk test split data\n",
    "from sklearn.preprocessing import OneHotEncoder\n",
    "from sklearn.preprocessing import OrdinalEncoder"
   ]
  },
  {
   "cell_type": "markdown",
   "metadata": {},
   "source": [
    "# 1. Tampilkan rata-rata, standar deviasi, nilai minimum, nilai maksimum, Q1, Q2, dan Q3 dari attribute bertipe angka.\n",
    "Untuk menampilkan perhitungan statistik terebut kita hanya perlu menggunakan df.describe(), maka akan memunculkan informasi statistik dari data dengan atribut angka. Tampilan berbentuk tabel yang berisi mean(rata-rata), std(standar deviasi), min(nilai minimum), max(nilai maksimum), 25% yang berarti kuartil bawah (Q1), 50% berarti kuartil tengah (Q2), dan 75% berarti kuartil atas (Q3)."
   ]
  },
  {
   "cell_type": "code",
   "execution_count": 7,
   "metadata": {},
   "outputs": [
    {
     "data": {
      "text/html": [
       "<div>\n",
       "<style scoped>\n",
       "    .dataframe tbody tr th:only-of-type {\n",
       "        vertical-align: middle;\n",
       "    }\n",
       "\n",
       "    .dataframe tbody tr th {\n",
       "        vertical-align: top;\n",
       "    }\n",
       "\n",
       "    .dataframe thead th {\n",
       "        text-align: right;\n",
       "    }\n",
       "</style>\n",
       "<table border=\"1\" class=\"dataframe\">\n",
       "  <thead>\n",
       "    <tr style=\"text-align: right;\">\n",
       "      <th></th>\n",
       "      <th>Inches</th>\n",
       "      <th>CPU_Frequency (GHz)</th>\n",
       "      <th>RAM (GB)</th>\n",
       "      <th>Weight (kg)</th>\n",
       "      <th>Price (Euro)</th>\n",
       "    </tr>\n",
       "  </thead>\n",
       "  <tbody>\n",
       "    <tr>\n",
       "      <th>count</th>\n",
       "      <td>1275.000000</td>\n",
       "      <td>1275.000000</td>\n",
       "      <td>1275.000000</td>\n",
       "      <td>1275.000000</td>\n",
       "      <td>1275.000000</td>\n",
       "    </tr>\n",
       "    <tr>\n",
       "      <th>mean</th>\n",
       "      <td>15.022902</td>\n",
       "      <td>2.302980</td>\n",
       "      <td>8.440784</td>\n",
       "      <td>2.040525</td>\n",
       "      <td>1134.969059</td>\n",
       "    </tr>\n",
       "    <tr>\n",
       "      <th>std</th>\n",
       "      <td>1.429470</td>\n",
       "      <td>0.503846</td>\n",
       "      <td>5.097809</td>\n",
       "      <td>0.669196</td>\n",
       "      <td>700.752504</td>\n",
       "    </tr>\n",
       "    <tr>\n",
       "      <th>min</th>\n",
       "      <td>10.100000</td>\n",
       "      <td>0.900000</td>\n",
       "      <td>2.000000</td>\n",
       "      <td>0.690000</td>\n",
       "      <td>174.000000</td>\n",
       "    </tr>\n",
       "    <tr>\n",
       "      <th>25%</th>\n",
       "      <td>14.000000</td>\n",
       "      <td>2.000000</td>\n",
       "      <td>4.000000</td>\n",
       "      <td>1.500000</td>\n",
       "      <td>609.000000</td>\n",
       "    </tr>\n",
       "    <tr>\n",
       "      <th>50%</th>\n",
       "      <td>15.600000</td>\n",
       "      <td>2.500000</td>\n",
       "      <td>8.000000</td>\n",
       "      <td>2.040000</td>\n",
       "      <td>989.000000</td>\n",
       "    </tr>\n",
       "    <tr>\n",
       "      <th>75%</th>\n",
       "      <td>15.600000</td>\n",
       "      <td>2.700000</td>\n",
       "      <td>8.000000</td>\n",
       "      <td>2.310000</td>\n",
       "      <td>1496.500000</td>\n",
       "    </tr>\n",
       "    <tr>\n",
       "      <th>max</th>\n",
       "      <td>18.400000</td>\n",
       "      <td>3.600000</td>\n",
       "      <td>64.000000</td>\n",
       "      <td>4.700000</td>\n",
       "      <td>6099.000000</td>\n",
       "    </tr>\n",
       "  </tbody>\n",
       "</table>\n",
       "</div>"
      ],
      "text/plain": [
       "            Inches  CPU_Frequency (GHz)     RAM (GB)  Weight (kg)  \\\n",
       "count  1275.000000          1275.000000  1275.000000  1275.000000   \n",
       "mean     15.022902             2.302980     8.440784     2.040525   \n",
       "std       1.429470             0.503846     5.097809     0.669196   \n",
       "min      10.100000             0.900000     2.000000     0.690000   \n",
       "25%      14.000000             2.000000     4.000000     1.500000   \n",
       "50%      15.600000             2.500000     8.000000     2.040000   \n",
       "75%      15.600000             2.700000     8.000000     2.310000   \n",
       "max      18.400000             3.600000    64.000000     4.700000   \n",
       "\n",
       "       Price (Euro)  \n",
       "count   1275.000000  \n",
       "mean    1134.969059  \n",
       "std      700.752504  \n",
       "min      174.000000  \n",
       "25%      609.000000  \n",
       "50%      989.000000  \n",
       "75%     1496.500000  \n",
       "max     6099.000000  "
      ]
     },
     "execution_count": 7,
     "metadata": {},
     "output_type": "execute_result"
    }
   ],
   "source": [
    "df.describe()"
   ]
  },
  {
   "cell_type": "markdown",
   "metadata": {},
   "source": [
    "# 2. Tampilkan 10 record pertama dari dataset dengan attribute bertipe angka\n",
    "Untuk menampilkan 10 record pertama dari dataset dengan attribute bertipe angka kita perlu memilih dahulu atribut bertipe angka dengan select_dtypes number untuk data dengan tipe angka, kemudian .head(10) untuk menampilkan 10 record pertama."
   ]
  },
  {
   "cell_type": "code",
   "execution_count": 8,
   "metadata": {},
   "outputs": [
    {
     "data": {
      "text/html": [
       "<div>\n",
       "<style scoped>\n",
       "    .dataframe tbody tr th:only-of-type {\n",
       "        vertical-align: middle;\n",
       "    }\n",
       "\n",
       "    .dataframe tbody tr th {\n",
       "        vertical-align: top;\n",
       "    }\n",
       "\n",
       "    .dataframe thead th {\n",
       "        text-align: right;\n",
       "    }\n",
       "</style>\n",
       "<table border=\"1\" class=\"dataframe\">\n",
       "  <thead>\n",
       "    <tr style=\"text-align: right;\">\n",
       "      <th></th>\n",
       "      <th>Inches</th>\n",
       "      <th>CPU_Frequency (GHz)</th>\n",
       "      <th>RAM (GB)</th>\n",
       "      <th>Weight (kg)</th>\n",
       "      <th>Price (Euro)</th>\n",
       "    </tr>\n",
       "  </thead>\n",
       "  <tbody>\n",
       "    <tr>\n",
       "      <th>0</th>\n",
       "      <td>13.3</td>\n",
       "      <td>2.3</td>\n",
       "      <td>8</td>\n",
       "      <td>1.37</td>\n",
       "      <td>1339.69</td>\n",
       "    </tr>\n",
       "    <tr>\n",
       "      <th>1</th>\n",
       "      <td>13.3</td>\n",
       "      <td>1.8</td>\n",
       "      <td>8</td>\n",
       "      <td>1.34</td>\n",
       "      <td>898.94</td>\n",
       "    </tr>\n",
       "    <tr>\n",
       "      <th>2</th>\n",
       "      <td>15.6</td>\n",
       "      <td>2.5</td>\n",
       "      <td>8</td>\n",
       "      <td>1.86</td>\n",
       "      <td>575.00</td>\n",
       "    </tr>\n",
       "    <tr>\n",
       "      <th>3</th>\n",
       "      <td>15.4</td>\n",
       "      <td>2.7</td>\n",
       "      <td>16</td>\n",
       "      <td>1.83</td>\n",
       "      <td>2537.45</td>\n",
       "    </tr>\n",
       "    <tr>\n",
       "      <th>4</th>\n",
       "      <td>13.3</td>\n",
       "      <td>3.1</td>\n",
       "      <td>8</td>\n",
       "      <td>1.37</td>\n",
       "      <td>1803.60</td>\n",
       "    </tr>\n",
       "    <tr>\n",
       "      <th>5</th>\n",
       "      <td>15.6</td>\n",
       "      <td>3.0</td>\n",
       "      <td>4</td>\n",
       "      <td>2.10</td>\n",
       "      <td>400.00</td>\n",
       "    </tr>\n",
       "    <tr>\n",
       "      <th>6</th>\n",
       "      <td>15.4</td>\n",
       "      <td>2.2</td>\n",
       "      <td>16</td>\n",
       "      <td>2.04</td>\n",
       "      <td>2139.97</td>\n",
       "    </tr>\n",
       "    <tr>\n",
       "      <th>7</th>\n",
       "      <td>13.3</td>\n",
       "      <td>1.8</td>\n",
       "      <td>8</td>\n",
       "      <td>1.34</td>\n",
       "      <td>1158.70</td>\n",
       "    </tr>\n",
       "    <tr>\n",
       "      <th>8</th>\n",
       "      <td>14.0</td>\n",
       "      <td>1.8</td>\n",
       "      <td>16</td>\n",
       "      <td>1.30</td>\n",
       "      <td>1495.00</td>\n",
       "    </tr>\n",
       "    <tr>\n",
       "      <th>9</th>\n",
       "      <td>14.0</td>\n",
       "      <td>1.6</td>\n",
       "      <td>8</td>\n",
       "      <td>1.60</td>\n",
       "      <td>770.00</td>\n",
       "    </tr>\n",
       "  </tbody>\n",
       "</table>\n",
       "</div>"
      ],
      "text/plain": [
       "   Inches  CPU_Frequency (GHz)  RAM (GB)  Weight (kg)  Price (Euro)\n",
       "0    13.3                  2.3         8         1.37       1339.69\n",
       "1    13.3                  1.8         8         1.34        898.94\n",
       "2    15.6                  2.5         8         1.86        575.00\n",
       "3    15.4                  2.7        16         1.83       2537.45\n",
       "4    13.3                  3.1         8         1.37       1803.60\n",
       "5    15.6                  3.0         4         2.10        400.00\n",
       "6    15.4                  2.2        16         2.04       2139.97\n",
       "7    13.3                  1.8         8         1.34       1158.70\n",
       "8    14.0                  1.8        16         1.30       1495.00\n",
       "9    14.0                  1.6         8         1.60        770.00"
      ]
     },
     "execution_count": 8,
     "metadata": {},
     "output_type": "execute_result"
    }
   ],
   "source": [
    "df.select_dtypes([\"number\"]).head(10)"
   ]
  },
  {
   "cell_type": "markdown",
   "metadata": {},
   "source": [
    "# 3. Tampilkan informasi jumlah record, jumlah attribute, nama attribute, jumlah attribute dengan tipe angka.\n",
    "Kita diminta memasukkan informasi tersebut dalam dictionary dengan key sesuai nama informasinya dan menampilkan isi dari dictionary tersebut sebagus mungkin.\n",
    "Pertama-tama kita deklarasikan beberapa variabel yang nantinya akan dimasukkan ke dalam dictionary. Untuk mengetahui jumlah record kita dapat menggunakan len(df), dan jika ingin mengetahui banyak atribut gunakan len(df.columns) yang akan menghitung panjang/banyak kolom. Kemudian untuk mengetahui nama semua atribut gunakan df.columns. Lalu untuk mengetahui jumlah atribut dengan tipe angka gunakan len lalu select_dtypes[\"number\"].columns untuk memilih atribut dengan tipe angka."
   ]
  },
  {
   "cell_type": "code",
   "execution_count": 9,
   "metadata": {},
   "outputs": [
    {
     "name": "stdout",
     "output_type": "stream",
     "text": [
      "======================================\n",
      "|          Informasi Dataset         |\n",
      "======================================\n",
      " Jumlah Record : 1275 \n",
      "--------------------------------------\n",
      " Jumlah Attribute : 15 \n",
      "--------------------------------------\n",
      " Nama Attribute :\n",
      "  1. Company \n",
      "  2. Product \n",
      "  3. TypeName \n",
      "  4. Inches \n",
      "  5. ScreenResolution \n",
      "  6. CPU_Company \n",
      "  7. CPU_Type \n",
      "  8. CPU_Frequency (GHz) \n",
      "  9. RAM (GB) \n",
      "  10. Memory \n",
      "  11. GPU_Company \n",
      "  12. GPU_Type \n",
      "  13. OpSys \n",
      "  14. Weight (kg) \n",
      "  15. Price (Euro) \n",
      "--------------------------------------\n",
      " Jumlah Attribute Tipe Angka : 5 \n",
      "--------------------------------------\n"
     ]
    }
   ],
   "source": [
    "jumlah_record = len(df)\n",
    "jumlah_attribute = len(df.columns)\n",
    "nama_attribute = list(df.columns)\n",
    "attribute_angka = len(df.select_dtypes([\"number\"]).columns)\n",
    "\n",
    "dict = {\n",
    "    'Jumlah Record': jumlah_record,\n",
    "    'Jumlah Attribute': jumlah_attribute,\n",
    "    'Nama Attribute': nama_attribute,\n",
    "    'Jumlah Attribute Tipe Angka': attribute_angka\n",
    "}\n",
    "\n",
    "print(\"======================================\")\n",
    "print(\"|          Informasi Dataset         |\")\n",
    "print(\"======================================\")\n",
    "for key, value in dict.items():\n",
    "    if isinstance(value, int):\n",
    "        print(f\" {key} : {value} \")\n",
    "    elif isinstance(value, list):\n",
    "        i = 1\n",
    "        print(f\" {key} :\")\n",
    "        for item in value:\n",
    "            print(f\"  {i}. {item} \")\n",
    "            i += 1\n",
    "    print(\"--------------------------------------\")"
   ]
  },
  {
   "cell_type": "markdown",
   "metadata": {},
   "source": [
    "# 4. Tampilkan jumlah label dari semua attribute yang bernilai object (contoh : Jenis Kelamin, Agama).\n",
    "Pertama kita harus memilih semua atribut dengan tipe object terlebih dahulu, yaitu dengan menggunakan select_dtypes[\"object\"] kemudian diikuti dengan .value_counts() untuk mengetahui jumlah nilainya. Pada output kita dapat mengetahui jumlah kategori \"Basic\" adalah 8735 dan kategori \"Luxury\" adalah 1265."
   ]
  },
  {
   "cell_type": "code",
   "execution_count": 10,
   "metadata": {},
   "outputs": [
    {
     "data": {
      "text/plain": [
       "Company  Product            TypeName            ScreenResolution                 CPU_Company  CPU_Type                 Memory                GPU_Company  GPU_Type         OpSys     \n",
       "Dell     Inspiron 5570      Notebook            Full HD 1920x1080                Intel        Core i5 8250U            256GB SSD             AMD          Radeon 530       Windows 10    3\n",
       "                                                                                              Core i7 8550U            256GB SSD +  2TB HDD  AMD          Radeon 530       Windows 10    3\n",
       "HP       EliteBook x360     2 in 1 Convertible  Full HD / Touchscreen 1920x1080  Intel        Core i5 7200U            256GB SSD             Intel        HD Graphics 620  Windows 10    3\n",
       "Dell     Inspiron 5570      Notebook            Full HD 1920x1080                Intel        Core i5 8250U            128GB SSD +  1TB HDD  AMD          Radeon 530       Windows 10    2\n",
       "         Latitude 7280      Ultrabook           Full HD 1920x1080                Intel        Core i7 7600U            256GB SSD             Intel        HD Graphics 620  Windows 10    2\n",
       "                                                                                                                                                                                        ..\n",
       "Toshiba  Portégé Z30-C-188  Ultrabook           1366x768                         Intel        Core i5 6200U            256GB SSD             Intel        HD Graphics 520  Windows 10    1\n",
       "         Satellite Pro      Notebook            1366x768                         Intel        Core i3 6006U            500GB HDD             Intel        HD Graphics 520  Windows 10    1\n",
       "                                                                                              Core i3 6100U            128GB SSD             Intel        HD Graphics 520  Windows 10    1\n",
       "Acer     Aspire 1           Notebook            Full HD 1920x1080                Intel        Celeron Quad Core N3450  32GB Flash Storage    Intel        HD Graphics 500  Windows 10    1\n",
       "         Aspire 5           Notebook            Full HD 1920x1080                Intel        Core i7 8550U            1TB HDD               Nvidia       GeForce MX150    Windows 10    1\n",
       "Name: count, Length: 1215, dtype: int64"
      ]
     },
     "execution_count": 10,
     "metadata": {},
     "output_type": "execute_result"
    }
   ],
   "source": [
    "df.select_dtypes([\"object\"]).value_counts()\n",
    "# df[\"Location\"].value_counts()"
   ]
  },
  {
   "cell_type": "markdown",
   "metadata": {},
   "source": [
    "# 5. Visualisasikan Dataset dengan Salah Satu Grafik\n",
    "Pada langkah ini, kita akan memvisualisasikan data dari dataset menggunakan grafik. Grafik yang dipilih harus sesuai dengan jenis data yang ada dan tujuan analisis. Misalnya, jika kita ingin melihat distribusi kategori dalam dataset, grafik batang atau histogram mungkin cocok. Jika kita ingin menunjukkan hubungan antara dua variabel numerik, grafik scatter plot bisa menjadi pilihan."
   ]
  },
  {
   "cell_type": "code",
   "execution_count": 11,
   "metadata": {},
   "outputs": [
    {
     "data": {
      "image/png": "[encoded data removed]",
      "text/plain": [
       "<Figure size 1000x600 with 1 Axes>"
      ]
     },
     "metadata": {},
     "output_type": "display_data"
    }
   ],
   "source": [
    "# # Plot bar chart untuk distribusi 'price (euro)'\n",
    "# plt.figure(figsize=(8, 6))\n",
    "# df['price (euro)'].value_counts().plot(kind='bar', color=['skyblue', 'lightgreen'])\n",
    "# plt.title('Distribusi Accommodation Available')\n",
    "# plt.xlabel('Accommodation Available')\n",
    "# plt.ylabel('Jumlah')\n",
    "# plt.xticks(rotation=0)\n",
    "# plt.show()\n",
    "\n",
    "# Create bins for the 'Price (Euro)' column\n",
    "bins = pd.cut(df['Price (Euro)'], bins=10)\n",
    "\n",
    "# Plot a bar chart for the distribution of price ranges\n",
    "plt.figure(figsize=(10, 6))\n",
    "bins.value_counts().sort_index().plot(kind='bar', color=['skyblue', 'lightgreen'])\n",
    "plt.title('Distribusi Harga Laptop (Euro)')\n",
    "plt.xlabel('Rentang Harga (Euro)')\n",
    "plt.ylabel('Jumlah Laptop')\n",
    "plt.xticks(rotation=45, ha='right')\n",
    "plt.grid(axis='y', linestyle='--', alpha=0.7)\n",
    "plt.show()\n"
   ]
  },
  {
   "cell_type": "markdown",
   "metadata": {},
   "source": [
    "# 6. Tampilkan Korelasi Dataset Menggunakan Heatmap\n",
    "Pada langkah ini, kita akan menghitung dan menampilkan matriks korelasi dari dataset menggunakan heatmap. Korelasi menunjukkan hubungan antara variabel-variabel numerik dalam dataset. Heatmap adalah cara visual yang efektif untuk menunjukkan kekuatan dan arah hubungan antara variabel."
   ]
  },
  {
   "cell_type": "code",
   "execution_count": 12,
   "metadata": {},
   "outputs": [
    {
     "data": {
      "image/png": "[encoded data removed]",
      "text/plain": [
       "<Figure size 1200x1000 with 2 Axes>"
      ]
     },
     "metadata": {},
     "output_type": "display_data"
    }
   ],
   "source": [
    "\n",
    "# df['Accommodation_Available'] = df['Accommodation_Available'].astype('category').cat.codes\n",
    "\n",
    "# df_encoded = pd.get_dummies(df)\n",
    "\n",
    "# numerical_df = df_encoded.select_dtypes(include=['float64', 'int64'])\n",
    "\n",
    "# corr_matrix = numerical_df.corr()\n",
    "\n",
    "# plt.figure(figsize=(12, 10))\n",
    "# sns.heatmap(corr_matrix, annot=True, cmap='coolwarm', linewidths=0.5, fmt='.2f')\n",
    "# plt.title('Heatmap Korelasi Dataset dengan Fokus pada Accommodation Available', fontsize=16)\n",
    "# plt.show()\n",
    "\n",
    "# Encoding categorical variables\n",
    "df['Company'] = df['Company'].astype('category').cat.codes\n",
    "df['TypeName'] = df['TypeName'].astype('category').cat.codes\n",
    "df['ScreenResolution'] = df['ScreenResolution'].astype('category').cat.codes\n",
    "df['CPU_Company'] = df['CPU_Company'].astype('category').cat.codes\n",
    "df['CPU_Type'] = df['CPU_Type'].astype('category').cat.codes\n",
    "df['GPU_Company'] = df['GPU_Company'].astype('category').cat.codes\n",
    "df['GPU_Type'] = df['GPU_Type'].astype('category').cat.codes\n",
    "df['OpSys'] = df['OpSys'].astype('category').cat.codes\n",
    "\n",
    "# Creating an encoded dataframe with numerical variables only\n",
    "numerical_df = df.select_dtypes(include=['float64', 'int64'])\n",
    "\n",
    "# Compute the correlation matrix\n",
    "corr_matrix = numerical_df.corr()\n",
    "\n",
    "# Plotting the heatmap\n",
    "import seaborn as sns\n",
    "import matplotlib.pyplot as plt\n",
    "\n",
    "plt.figure(figsize=(12, 10))\n",
    "sns.heatmap(corr_matrix, annot=True, cmap='coolwarm', linewidths=0.5, fmt='.2f')\n",
    "plt.title('Heatmap Korelasi Dataset Laptop', fontsize=16)\n",
    "plt.show()\n"
   ]
  },
  {
   "cell_type": "markdown",
   "metadata": {},
   "source": [
    "### Kesimpulan\n",
    "\n",
    "1. **Distribusi Accommodation Available**:\n",
    "   Grafik batang menunjukkan distribusi jumlah akomodasi yang tersedia dalam dataset. Dengan visualisasi ini, kita dapat melihat frekuensi dari setiap kategori akomodasi, yang membantu memahami pola prevalensi dan popularitas akomodasi di antara para wisatawan.\n",
    "\n",
    "2. **Heatmap Korelasi**:\n",
    "   Heatmap korelasi memberikan gambaran tentang hubungan antara variabel numerik dalam dataset. Korelasi positif menunjukkan bahwa variabel-variabel tersebut bergerak dalam arah yang sama, sementara korelasi negatif menunjukkan bahwa variabel-variabel tersebut bergerak dalam arah yang berlawanan. Misalnya, jika terdapat korelasi tinggi antara variabel **\"biaya perjalanan\"** dan **\"durasi perjalanan\"**, ini mungkin menunjukkan bahwa biaya perjalanan lebih tinggi pada perjalanan yang lebih lama.\n"
   ]
  },
  {
   "cell_type": "markdown",
   "metadata": {},
   "source": []
  },
  {
   "cell_type": "markdown",
   "metadata": {},
   "source": [
    "## 1. Data Cleaning  \n",
    "Data Cleaning adalah proses mempersiapkan data untuk analisis dengan menghapus atau memodifikasi data yang tidak benar, tidak lengkap, tidak relevan, diduplikasi, atau diformat dengan tidak benar.\n"
   ]
  },
  {
   "cell_type": "markdown",
   "metadata": {},
   "source": [
    "### cek data dengan nilai null (handling missing value)\n",
    "Pada bagian ini saya akan menangani nilai null dengan melakukan subsitusi nilai. Langkah pertama kita perlu mengimport SimpleImputer dari sklearn.impute terlebih dahulu. Dan mengecek nilai NULL pada data."
   ]
  },
  {
   "cell_type": "code",
   "execution_count": 13,
   "metadata": {},
   "outputs": [
    {
     "data": {
      "text/plain": [
       "Company                0\n",
       "Product                0\n",
       "TypeName               0\n",
       "Inches                 0\n",
       "ScreenResolution       0\n",
       "CPU_Company            0\n",
       "CPU_Type               0\n",
       "CPU_Frequency (GHz)    0\n",
       "RAM (GB)               0\n",
       "Memory                 0\n",
       "GPU_Company            0\n",
       "GPU_Type               0\n",
       "OpSys                  0\n",
       "Weight (kg)            0\n",
       "Price (Euro)           0\n",
       "dtype: int64"
      ]
     },
     "execution_count": 13,
     "metadata": {},
     "output_type": "execute_result"
    }
   ],
   "source": [
    "df.isnull().sum()"
   ]
  },
  {
   "cell_type": "markdown",
   "metadata": {},
   "source": [
    "### DUPLICATE\n",
    "Tahap pertama kita akan mengecek data yang duplikat dengan df.duplicated().sum() yang akan menghitung berapa banyak data yang duplikat."
   ]
  },
  {
   "cell_type": "code",
   "execution_count": 14,
   "metadata": {},
   "outputs": [
    {
     "name": "stdout",
     "output_type": "stream",
     "text": [
      "Jumlah nilai duplikat:  0\n"
     ]
    }
   ],
   "source": [
    "duplicate = df.duplicated().sum()\n",
    "print('Jumlah nilai duplikat: ', duplicate)"
   ]
  },
  {
   "cell_type": "markdown",
   "metadata": {},
   "source": [
    "\n",
    "### Handling Outer Values dengan Boxplot\n",
    "\n",
    "Dalam analisis data, **outlier** adalah nilai-nilai yang sangat jauh dari distribusi data lainnya. Boxplot adalah alat yang sangat berguna untuk mengidentifikasi outlier, karena visualisasi ini menampilkan persebaran data secara ringkas, termasuk median, kuartil, dan outlier."
   ]
  },
  {
   "cell_type": "code",
   "execution_count": 15,
   "metadata": {},
   "outputs": [
    {
     "name": "stderr",
     "output_type": "stream",
     "text": [
      "c:\\Users\\Acer\\AppData\\Local\\Programs\\Python\\Python310\\lib\\site-packages\\seaborn\\categorical.py:632: FutureWarning: SeriesGroupBy.grouper is deprecated and will be removed in a future version of pandas.\n",
      "  positions = grouped.grouper.result_index.to_numpy(dtype=float)\n"
     ]
    },
    {
     "data": {
      "text/plain": [
       "<Axes: ylabel='Price (Euro)'>"
      ]
     },
     "execution_count": 15,
     "metadata": {},
     "output_type": "execute_result"
    },
    {
     "data": {
      "image/png": "[encoded data removed]",
      "text/plain": [
       "<Figure size 200x300 with 1 Axes>"
      ]
     },
     "metadata": {},
     "output_type": "display_data"
    }
   ],
   "source": [
    "fig, ax = plt.subplots(figsize=(2,3)) #buat frame/figure\n",
    "sns.boxplot(df['Price (Euro)']) #buat boxplot"
   ]
  },
  {
   "cell_type": "markdown",
   "metadata": {},
   "source": [
    "membuat perbandingan sebelum dan sesudah handling oulier dengan kode seperti dibawah ini"
   ]
  },
  {
   "cell_type": "code",
   "execution_count": 16,
   "metadata": {},
   "outputs": [
    {
     "name": "stderr",
     "output_type": "stream",
     "text": [
      "c:\\Users\\Acer\\AppData\\Local\\Programs\\Python\\Python310\\lib\\site-packages\\seaborn\\categorical.py:632: FutureWarning: SeriesGroupBy.grouper is deprecated and will be removed in a future version of pandas.\n",
      "  positions = grouped.grouper.result_index.to_numpy(dtype=float)\n",
      "c:\\Users\\Acer\\AppData\\Local\\Programs\\Python\\Python310\\lib\\site-packages\\seaborn\\categorical.py:632: FutureWarning: SeriesGroupBy.grouper is deprecated and will be removed in a future version of pandas.\n",
      "  positions = grouped.grouper.result_index.to_numpy(dtype=float)\n"
     ]
    },
    {
     "data": {
      "image/png": "[encoded data removed]",
      "text/plain": [
       "<Figure size 1000x500 with 2 Axes>"
      ]
     },
     "metadata": {},
     "output_type": "display_data"
    }
   ],
   "source": [
    "fig, axes = plt.subplots(1,2, figsize=(10, 5))\n",
    "plt.tight_layout()\n",
    "sns.boxplot(df['Price (Euro)'],orient='v',ax=axes[0])\n",
    "axes[0].title.set_text(\"Sebelum\")\n",
    "\n",
    "# Menangani outlier dengan IQR\n",
    "Q1 = df['Price (Euro)'].quantile(0.25)\n",
    "Q3 = df['Price (Euro)'].quantile(0.75)\n",
    "IQR = Q3 - Q1\n",
    "\n",
    "#ambil nilai antara 1.5*IQR dari Q1 dan Q3 aja\n",
    "df['Price (Euro)'] = df['Price (Euro)'][~((df['Price (Euro)'] < (Q1 - 1.5 * IQR)) |\n",
    "(df['Price (Euro)'] > (Q3 + 1.5 * IQR)))]\n",
    "#setelah handling oulier\n",
    "sns.boxplot(df['Price (Euro)'],orient='v',ax=axes[1])\n",
    "axes[1].title.set_text(\"Sesudah\")\n",
    "plt.show()"
   ]
  },
  {
   "cell_type": "markdown",
   "metadata": {},
   "source": [
    "## 2. Normalisasi/standarisasi kolom numerik\n"
   ]
  },
  {
   "cell_type": "markdown",
   "metadata": {},
   "source": [
    "### Normalisasi\n",
    "Pada bagian ini kita menggunakan teknik penskalaan standarisasi sehingga memiliki dimensi [0, 1]\n",
    "Pertama-tama kita import MinMaxScaler terlebih dahulu dari sklearn.preprocessing. Kemudian kita akan mengecek tipe data dari tiap kolom. Lalu kita deklrasikan mm dengan value MinMaxScaler(). Selanjutnya, kita akan mengcopy dataset terlebih dahulu."
   ]
  },
  {
   "cell_type": "code",
   "execution_count": 17,
   "metadata": {},
   "outputs": [
    {
     "data": {
      "text/plain": [
       "Company                   int8\n",
       "Product                 object\n",
       "TypeName                  int8\n",
       "Inches                 float64\n",
       "ScreenResolution          int8\n",
       "CPU_Company               int8\n",
       "CPU_Type                  int8\n",
       "CPU_Frequency (GHz)    float64\n",
       "RAM (GB)                 int64\n",
       "Memory                  object\n",
       "GPU_Company               int8\n",
       "GPU_Type                  int8\n",
       "OpSys                     int8\n",
       "Weight (kg)            float64\n",
       "Price (Euro)           float64\n",
       "dtype: object"
      ]
     },
     "execution_count": 17,
     "metadata": {},
     "output_type": "execute_result"
    }
   ],
   "source": [
    "df.dtypes"
   ]
  },
  {
   "cell_type": "code",
   "execution_count": 18,
   "metadata": {},
   "outputs": [
    {
     "data": {
      "text/html": [
       "<div>\n",
       "<style scoped>\n",
       "    .dataframe tbody tr th:only-of-type {\n",
       "        vertical-align: middle;\n",
       "    }\n",
       "\n",
       "    .dataframe tbody tr th {\n",
       "        vertical-align: top;\n",
       "    }\n",
       "\n",
       "    .dataframe thead th {\n",
       "        text-align: right;\n",
       "    }\n",
       "</style>\n",
       "<table border=\"1\" class=\"dataframe\">\n",
       "  <thead>\n",
       "    <tr style=\"text-align: right;\">\n",
       "      <th></th>\n",
       "      <th>Company</th>\n",
       "      <th>TypeName</th>\n",
       "      <th>Inches</th>\n",
       "      <th>ScreenResolution</th>\n",
       "      <th>CPU_Company</th>\n",
       "      <th>CPU_Type</th>\n",
       "      <th>CPU_Frequency (GHz)</th>\n",
       "      <th>RAM (GB)</th>\n",
       "      <th>GPU_Company</th>\n",
       "      <th>GPU_Type</th>\n",
       "      <th>OpSys</th>\n",
       "      <th>Weight (kg)</th>\n",
       "      <th>Price (Euro)</th>\n",
       "    </tr>\n",
       "  </thead>\n",
       "  <tbody>\n",
       "    <tr>\n",
       "      <th>0</th>\n",
       "      <td>0.055556</td>\n",
       "      <td>0.8</td>\n",
       "      <td>0.385542</td>\n",
       "      <td>0.589744</td>\n",
       "      <td>0.5</td>\n",
       "      <td>0.434783</td>\n",
       "      <td>0.518519</td>\n",
       "      <td>0.096774</td>\n",
       "      <td>0.666667</td>\n",
       "      <td>0.533333</td>\n",
       "      <td>1.0</td>\n",
       "      <td>0.169576</td>\n",
       "      <td>0.439883</td>\n",
       "    </tr>\n",
       "    <tr>\n",
       "      <th>1</th>\n",
       "      <td>0.055556</td>\n",
       "      <td>0.8</td>\n",
       "      <td>0.385542</td>\n",
       "      <td>0.025641</td>\n",
       "      <td>0.5</td>\n",
       "      <td>0.434783</td>\n",
       "      <td>0.333333</td>\n",
       "      <td>0.096774</td>\n",
       "      <td>0.666667</td>\n",
       "      <td>0.476190</td>\n",
       "      <td>1.0</td>\n",
       "      <td>0.162095</td>\n",
       "      <td>0.273562</td>\n",
       "    </tr>\n",
       "    <tr>\n",
       "      <th>2</th>\n",
       "      <td>0.388889</td>\n",
       "      <td>0.6</td>\n",
       "      <td>0.662651</td>\n",
       "      <td>0.205128</td>\n",
       "      <td>0.5</td>\n",
       "      <td>0.500000</td>\n",
       "      <td>0.592593</td>\n",
       "      <td>0.096774</td>\n",
       "      <td>0.666667</td>\n",
       "      <td>0.495238</td>\n",
       "      <td>0.5</td>\n",
       "      <td>0.291771</td>\n",
       "      <td>0.151321</td>\n",
       "    </tr>\n",
       "    <tr>\n",
       "      <th>3</th>\n",
       "      <td>0.055556</td>\n",
       "      <td>0.8</td>\n",
       "      <td>0.638554</td>\n",
       "      <td>0.641026</td>\n",
       "      <td>0.5</td>\n",
       "      <td>0.586957</td>\n",
       "      <td>0.666667</td>\n",
       "      <td>0.225806</td>\n",
       "      <td>0.000000</td>\n",
       "      <td>0.723810</td>\n",
       "      <td>1.0</td>\n",
       "      <td>0.284289</td>\n",
       "      <td>0.891868</td>\n",
       "    </tr>\n",
       "    <tr>\n",
       "      <th>4</th>\n",
       "      <td>0.055556</td>\n",
       "      <td>0.8</td>\n",
       "      <td>0.385542</td>\n",
       "      <td>0.589744</td>\n",
       "      <td>0.5</td>\n",
       "      <td>0.434783</td>\n",
       "      <td>0.814815</td>\n",
       "      <td>0.096774</td>\n",
       "      <td>0.666667</td>\n",
       "      <td>0.542857</td>\n",
       "      <td>1.0</td>\n",
       "      <td>0.169576</td>\n",
       "      <td>0.614943</td>\n",
       "    </tr>\n",
       "  </tbody>\n",
       "</table>\n",
       "</div>"
      ],
      "text/plain": [
       "    Company  TypeName    Inches  ScreenResolution  CPU_Company  CPU_Type  \\\n",
       "0  0.055556       0.8  0.385542          0.589744          0.5  0.434783   \n",
       "1  0.055556       0.8  0.385542          0.025641          0.5  0.434783   \n",
       "2  0.388889       0.6  0.662651          0.205128          0.5  0.500000   \n",
       "3  0.055556       0.8  0.638554          0.641026          0.5  0.586957   \n",
       "4  0.055556       0.8  0.385542          0.589744          0.5  0.434783   \n",
       "\n",
       "   CPU_Frequency (GHz)  RAM (GB)  GPU_Company  GPU_Type  OpSys  Weight (kg)  \\\n",
       "0             0.518519  0.096774     0.666667  0.533333    1.0     0.169576   \n",
       "1             0.333333  0.096774     0.666667  0.476190    1.0     0.162095   \n",
       "2             0.592593  0.096774     0.666667  0.495238    0.5     0.291771   \n",
       "3             0.666667  0.225806     0.000000  0.723810    1.0     0.284289   \n",
       "4             0.814815  0.096774     0.666667  0.542857    1.0     0.169576   \n",
       "\n",
       "   Price (Euro)  \n",
       "0      0.439883  \n",
       "1      0.273562  \n",
       "2      0.151321  \n",
       "3      0.891868  \n",
       "4      0.614943  "
      ]
     },
     "execution_count": 18,
     "metadata": {},
     "output_type": "execute_result"
    }
   ],
   "source": [
    "#Menginisialisasi Min Max Scaller\n",
    "scaler = MinMaxScaler(feature_range=(0,1))\n",
    "#Numerical Columns\n",
    "num_col_ = [col for col in df.columns if\n",
    "  df[col].dtypes != 'O' and col != 'Id']\n",
    "x1 = df[num_col_]\n",
    "#Mempelajari prameter statistik untuk setiap data dan ditransformasikan\n",
    "x1 = scaler.fit_transform(x1)\n",
    "x1 = pd.DataFrame(x1, columns=num_col_)\n",
    "x1.head()"
   ]
  },
  {
   "cell_type": "markdown",
   "metadata": {},
   "source": [
    "### Standarisasi"
   ]
  },
  {
   "cell_type": "markdown",
   "metadata": {},
   "source": [
    "\n",
    "Standarisasi Data: Menggunakan StandardScaler untuk Normalisasi Fitur Numerik\n",
    "Dalam proses machine learning, salah satu teknik penting yang sering digunakan adalah standarisasi data. Standarisasi bertujuan untuk mengubah distribusi fitur agar memiliki mean (rata-rata) 0 dan standar deviasi 1, sehingga model machine learning dapat bekerja lebih baik, terutama untuk algoritma yang sensitif terhadap skala fitur (seperti regresi linear atau SVM)."
   ]
  },
  {
   "cell_type": "code",
   "execution_count": 19,
   "metadata": {},
   "outputs": [
    {
     "data": {
      "text/html": [
       "<div>\n",
       "<style scoped>\n",
       "    .dataframe tbody tr th:only-of-type {\n",
       "        vertical-align: middle;\n",
       "    }\n",
       "\n",
       "    .dataframe tbody tr th {\n",
       "        vertical-align: top;\n",
       "    }\n",
       "\n",
       "    .dataframe thead th {\n",
       "        text-align: right;\n",
       "    }\n",
       "</style>\n",
       "<table border=\"1\" class=\"dataframe\">\n",
       "  <thead>\n",
       "    <tr style=\"text-align: right;\">\n",
       "      <th></th>\n",
       "      <th>Company</th>\n",
       "      <th>TypeName</th>\n",
       "      <th>Inches</th>\n",
       "      <th>ScreenResolution</th>\n",
       "      <th>CPU_Company</th>\n",
       "      <th>CPU_Type</th>\n",
       "      <th>CPU_Frequency (GHz)</th>\n",
       "      <th>RAM (GB)</th>\n",
       "      <th>GPU_Company</th>\n",
       "      <th>GPU_Type</th>\n",
       "      <th>OpSys</th>\n",
       "      <th>Weight (kg)</th>\n",
       "      <th>Price (Euro)</th>\n",
       "    </tr>\n",
       "  </thead>\n",
       "  <tbody>\n",
       "    <tr>\n",
       "      <th>0</th>\n",
       "      <td>-1.333546</td>\n",
       "      <td>1.136135</td>\n",
       "      <td>-1.205746</td>\n",
       "      <td>1.737738</td>\n",
       "      <td>0.216459</td>\n",
       "      <td>-0.603861</td>\n",
       "      <td>-0.005918</td>\n",
       "      <td>-0.086499</td>\n",
       "      <td>-0.039845</td>\n",
       "      <td>0.335039</td>\n",
       "      <td>3.081382</td>\n",
       "      <td>-1.002380</td>\n",
       "      <td>0.430647</td>\n",
       "    </tr>\n",
       "    <tr>\n",
       "      <th>1</th>\n",
       "      <td>-1.333546</td>\n",
       "      <td>1.136135</td>\n",
       "      <td>-1.205746</td>\n",
       "      <td>-1.056229</td>\n",
       "      <td>0.216459</td>\n",
       "      <td>-0.603861</td>\n",
       "      <td>-0.998674</td>\n",
       "      <td>-0.086499</td>\n",
       "      <td>-0.039845</td>\n",
       "      <td>0.104487</td>\n",
       "      <td>3.081382</td>\n",
       "      <td>-1.047227</td>\n",
       "      <td>-0.305492</td>\n",
       "    </tr>\n",
       "    <tr>\n",
       "      <th>2</th>\n",
       "      <td>0.131784</td>\n",
       "      <td>0.334490</td>\n",
       "      <td>0.403873</td>\n",
       "      <td>-0.167240</td>\n",
       "      <td>0.216459</td>\n",
       "      <td>-0.250415</td>\n",
       "      <td>0.391185</td>\n",
       "      <td>-0.086499</td>\n",
       "      <td>-0.039845</td>\n",
       "      <td>0.181337</td>\n",
       "      <td>-0.787414</td>\n",
       "      <td>-0.269871</td>\n",
       "      <td>-0.846535</td>\n",
       "    </tr>\n",
       "    <tr>\n",
       "      <th>3</th>\n",
       "      <td>-1.333546</td>\n",
       "      <td>1.136135</td>\n",
       "      <td>0.263906</td>\n",
       "      <td>1.991735</td>\n",
       "      <td>0.216459</td>\n",
       "      <td>0.220846</td>\n",
       "      <td>0.788288</td>\n",
       "      <td>1.483418</td>\n",
       "      <td>-2.201665</td>\n",
       "      <td>1.103545</td>\n",
       "      <td>3.081382</td>\n",
       "      <td>-0.314718</td>\n",
       "      <td>2.431142</td>\n",
       "    </tr>\n",
       "    <tr>\n",
       "      <th>4</th>\n",
       "      <td>-1.333546</td>\n",
       "      <td>1.136135</td>\n",
       "      <td>-1.205746</td>\n",
       "      <td>1.737738</td>\n",
       "      <td>0.216459</td>\n",
       "      <td>-0.603861</td>\n",
       "      <td>1.582493</td>\n",
       "      <td>-0.086499</td>\n",
       "      <td>-0.039845</td>\n",
       "      <td>0.373464</td>\n",
       "      <td>3.081382</td>\n",
       "      <td>-1.002380</td>\n",
       "      <td>1.205468</td>\n",
       "    </tr>\n",
       "  </tbody>\n",
       "</table>\n",
       "</div>"
      ],
      "text/plain": [
       "    Company  TypeName    Inches  ScreenResolution  CPU_Company  CPU_Type  \\\n",
       "0 -1.333546  1.136135 -1.205746          1.737738     0.216459 -0.603861   \n",
       "1 -1.333546  1.136135 -1.205746         -1.056229     0.216459 -0.603861   \n",
       "2  0.131784  0.334490  0.403873         -0.167240     0.216459 -0.250415   \n",
       "3 -1.333546  1.136135  0.263906          1.991735     0.216459  0.220846   \n",
       "4 -1.333546  1.136135 -1.205746          1.737738     0.216459 -0.603861   \n",
       "\n",
       "   CPU_Frequency (GHz)  RAM (GB)  GPU_Company  GPU_Type     OpSys  \\\n",
       "0            -0.005918 -0.086499    -0.039845  0.335039  3.081382   \n",
       "1            -0.998674 -0.086499    -0.039845  0.104487  3.081382   \n",
       "2             0.391185 -0.086499    -0.039845  0.181337 -0.787414   \n",
       "3             0.788288  1.483418    -2.201665  1.103545  3.081382   \n",
       "4             1.582493 -0.086499    -0.039845  0.373464  3.081382   \n",
       "\n",
       "   Weight (kg)  Price (Euro)  \n",
       "0    -1.002380      0.430647  \n",
       "1    -1.047227     -0.305492  \n",
       "2    -0.269871     -0.846535  \n",
       "3    -0.314718      2.431142  \n",
       "4    -1.002380      1.205468  "
      ]
     },
     "execution_count": 19,
     "metadata": {},
     "output_type": "execute_result"
    }
   ],
   "source": [
    "#Menginisialisasi Min Max Scaller\n",
    "scaler = StandardScaler()\n",
    "#Numerical Columns\n",
    "num_col_ = [col for col in df.columns if\n",
    "  df[col].dtypes != 'O' and col != 'Id']\n",
    "x1 = df[num_col_]\n",
    "#Mempelajari prameter statistik untuk setiap data dan ditransformasikan\n",
    "x1 = scaler.fit_transform(x1)\n",
    "x1 = pd.DataFrame(x1, columns=num_col_)\n",
    "x1.head()"
   ]
  },
  {
   "cell_type": "markdown",
   "metadata": {},
   "source": [
    "Proses standarisasi ini penting untuk membuat fitur numerik berada pada skala yang sama, sehingga model machine learning dapat mempelajari data dengan lebih optimal."
   ]
  },
  {
   "cell_type": "markdown",
   "metadata": {},
   "source": [
    "# 3. Encoding"
   ]
  },
  {
   "cell_type": "markdown",
   "metadata": {},
   "source": [
    "### one hot encoding\n",
    "Untuk melakukan One-Hot Encoding kita perlu mengimport OneHotEncoder dari sklearn.preprocessing terlebih dahulu. Pada bagian ini kita akan mengubah nilai 'hasPool' menjadi boolean (True, False)."
   ]
  },
  {
   "cell_type": "code",
   "execution_count": 20,
   "metadata": {},
   "outputs": [
    {
     "data": {
      "text/html": [
       "<div>\n",
       "<style scoped>\n",
       "    .dataframe tbody tr th:only-of-type {\n",
       "        vertical-align: middle;\n",
       "    }\n",
       "\n",
       "    .dataframe tbody tr th {\n",
       "        vertical-align: top;\n",
       "    }\n",
       "\n",
       "    .dataframe thead th {\n",
       "        text-align: right;\n",
       "    }\n",
       "</style>\n",
       "<table border=\"1\" class=\"dataframe\">\n",
       "  <thead>\n",
       "    <tr style=\"text-align: right;\">\n",
       "      <th></th>\n",
       "      <th>RAM_2GB</th>\n",
       "      <th>RAM_4GB</th>\n",
       "      <th>RAM_6GB</th>\n",
       "      <th>RAM_8GB</th>\n",
       "      <th>RAM_12GB</th>\n",
       "      <th>RAM_16GB</th>\n",
       "      <th>RAM_24GB</th>\n",
       "      <th>RAM_32GB</th>\n",
       "      <th>RAM_64GB</th>\n",
       "    </tr>\n",
       "  </thead>\n",
       "  <tbody>\n",
       "    <tr>\n",
       "      <th>0</th>\n",
       "      <td>0.0</td>\n",
       "      <td>0.0</td>\n",
       "      <td>0.0</td>\n",
       "      <td>1.0</td>\n",
       "      <td>0.0</td>\n",
       "      <td>0.0</td>\n",
       "      <td>0.0</td>\n",
       "      <td>0.0</td>\n",
       "      <td>0.0</td>\n",
       "    </tr>\n",
       "    <tr>\n",
       "      <th>1</th>\n",
       "      <td>0.0</td>\n",
       "      <td>0.0</td>\n",
       "      <td>0.0</td>\n",
       "      <td>1.0</td>\n",
       "      <td>0.0</td>\n",
       "      <td>0.0</td>\n",
       "      <td>0.0</td>\n",
       "      <td>0.0</td>\n",
       "      <td>0.0</td>\n",
       "    </tr>\n",
       "    <tr>\n",
       "      <th>2</th>\n",
       "      <td>0.0</td>\n",
       "      <td>0.0</td>\n",
       "      <td>0.0</td>\n",
       "      <td>1.0</td>\n",
       "      <td>0.0</td>\n",
       "      <td>0.0</td>\n",
       "      <td>0.0</td>\n",
       "      <td>0.0</td>\n",
       "      <td>0.0</td>\n",
       "    </tr>\n",
       "    <tr>\n",
       "      <th>3</th>\n",
       "      <td>0.0</td>\n",
       "      <td>0.0</td>\n",
       "      <td>0.0</td>\n",
       "      <td>0.0</td>\n",
       "      <td>0.0</td>\n",
       "      <td>1.0</td>\n",
       "      <td>0.0</td>\n",
       "      <td>0.0</td>\n",
       "      <td>0.0</td>\n",
       "    </tr>\n",
       "    <tr>\n",
       "      <th>4</th>\n",
       "      <td>0.0</td>\n",
       "      <td>0.0</td>\n",
       "      <td>0.0</td>\n",
       "      <td>1.0</td>\n",
       "      <td>0.0</td>\n",
       "      <td>0.0</td>\n",
       "      <td>0.0</td>\n",
       "      <td>0.0</td>\n",
       "      <td>0.0</td>\n",
       "    </tr>\n",
       "    <tr>\n",
       "      <th>...</th>\n",
       "      <td>...</td>\n",
       "      <td>...</td>\n",
       "      <td>...</td>\n",
       "      <td>...</td>\n",
       "      <td>...</td>\n",
       "      <td>...</td>\n",
       "      <td>...</td>\n",
       "      <td>...</td>\n",
       "      <td>...</td>\n",
       "    </tr>\n",
       "    <tr>\n",
       "      <th>1270</th>\n",
       "      <td>0.0</td>\n",
       "      <td>1.0</td>\n",
       "      <td>0.0</td>\n",
       "      <td>0.0</td>\n",
       "      <td>0.0</td>\n",
       "      <td>0.0</td>\n",
       "      <td>0.0</td>\n",
       "      <td>0.0</td>\n",
       "      <td>0.0</td>\n",
       "    </tr>\n",
       "    <tr>\n",
       "      <th>1271</th>\n",
       "      <td>0.0</td>\n",
       "      <td>0.0</td>\n",
       "      <td>0.0</td>\n",
       "      <td>0.0</td>\n",
       "      <td>0.0</td>\n",
       "      <td>1.0</td>\n",
       "      <td>0.0</td>\n",
       "      <td>0.0</td>\n",
       "      <td>0.0</td>\n",
       "    </tr>\n",
       "    <tr>\n",
       "      <th>1272</th>\n",
       "      <td>1.0</td>\n",
       "      <td>0.0</td>\n",
       "      <td>0.0</td>\n",
       "      <td>0.0</td>\n",
       "      <td>0.0</td>\n",
       "      <td>0.0</td>\n",
       "      <td>0.0</td>\n",
       "      <td>0.0</td>\n",
       "      <td>0.0</td>\n",
       "    </tr>\n",
       "    <tr>\n",
       "      <th>1273</th>\n",
       "      <td>0.0</td>\n",
       "      <td>0.0</td>\n",
       "      <td>1.0</td>\n",
       "      <td>0.0</td>\n",
       "      <td>0.0</td>\n",
       "      <td>0.0</td>\n",
       "      <td>0.0</td>\n",
       "      <td>0.0</td>\n",
       "      <td>0.0</td>\n",
       "    </tr>\n",
       "    <tr>\n",
       "      <th>1274</th>\n",
       "      <td>0.0</td>\n",
       "      <td>1.0</td>\n",
       "      <td>0.0</td>\n",
       "      <td>0.0</td>\n",
       "      <td>0.0</td>\n",
       "      <td>0.0</td>\n",
       "      <td>0.0</td>\n",
       "      <td>0.0</td>\n",
       "      <td>0.0</td>\n",
       "    </tr>\n",
       "  </tbody>\n",
       "</table>\n",
       "<p>1275 rows × 9 columns</p>\n",
       "</div>"
      ],
      "text/plain": [
       "      RAM_2GB  RAM_4GB  RAM_6GB  RAM_8GB  RAM_12GB  RAM_16GB  RAM_24GB  \\\n",
       "0         0.0      0.0      0.0      1.0       0.0       0.0       0.0   \n",
       "1         0.0      0.0      0.0      1.0       0.0       0.0       0.0   \n",
       "2         0.0      0.0      0.0      1.0       0.0       0.0       0.0   \n",
       "3         0.0      0.0      0.0      0.0       0.0       1.0       0.0   \n",
       "4         0.0      0.0      0.0      1.0       0.0       0.0       0.0   \n",
       "...       ...      ...      ...      ...       ...       ...       ...   \n",
       "1270      0.0      1.0      0.0      0.0       0.0       0.0       0.0   \n",
       "1271      0.0      0.0      0.0      0.0       0.0       1.0       0.0   \n",
       "1272      1.0      0.0      0.0      0.0       0.0       0.0       0.0   \n",
       "1273      0.0      0.0      1.0      0.0       0.0       0.0       0.0   \n",
       "1274      0.0      1.0      0.0      0.0       0.0       0.0       0.0   \n",
       "\n",
       "      RAM_32GB  RAM_64GB  \n",
       "0          0.0       0.0  \n",
       "1          0.0       0.0  \n",
       "2          0.0       0.0  \n",
       "3          0.0       0.0  \n",
       "4          0.0       0.0  \n",
       "...        ...       ...  \n",
       "1270       0.0       0.0  \n",
       "1271       0.0       0.0  \n",
       "1272       0.0       0.0  \n",
       "1273       0.0       0.0  \n",
       "1274       0.0       0.0  \n",
       "\n",
       "[1275 rows x 9 columns]"
      ]
     },
     "execution_count": 20,
     "metadata": {},
     "output_type": "execute_result"
    }
   ],
   "source": [
    "ohe = OneHotEncoder(sparse_output=False)\n",
    "oh_encoded = ohe.fit_transform(df[['RAM (GB)']]) \n",
    "categories = ohe.categories_[0]\n",
    "\n",
    "encoded = pd.DataFrame(oh_encoded, columns=[f'RAM_{int(cat)}GB' for cat in categories])\n",
    "encoded"
   ]
  },
  {
   "cell_type": "markdown",
   "metadata": {},
   "source": [
    " ### Ordinal Encoding\n",
    "Untuk melakukan ordinal encoding kita perlu mengimport OrdinalEncoder dari sklearn.preprocessing terlebih dahulu. Pada bagian ini kita akan mengubah nilai category menjadi bilangan bulat."
   ]
  },
  {
   "cell_type": "markdown",
   "metadata": {},
   "source": [
    "Pertama kita deklarasikan OrdinalEncoder() dengan oe. Kemudian kita deklarasikan df 'TypeName' dengan value OrdinalEncoder dari df 'TypeName'."
   ]
  },
  {
   "cell_type": "code",
   "execution_count": 21,
   "metadata": {},
   "outputs": [
    {
     "data": {
      "text/plain": [
       "array([4., 3., 2., 1., 0., 5.])"
      ]
     },
     "execution_count": 21,
     "metadata": {},
     "output_type": "execute_result"
    }
   ],
   "source": [
    "oe = OrdinalEncoder()\n",
    "df[['TypeName']] = oe.fit_transform(df[['TypeName']])\n",
    "df['TypeName'].unique() \n"
   ]
  },
  {
   "cell_type": "code",
   "execution_count": 22,
   "metadata": {},
   "outputs": [
    {
     "data": {
      "text/plain": [
       "TypeName\n",
       "3.0    707\n",
       "1.0    205\n",
       "4.0    194\n",
       "0.0    117\n",
       "5.0     29\n",
       "2.0     23\n",
       "Name: count, dtype: int64"
      ]
     },
     "execution_count": 22,
     "metadata": {},
     "output_type": "execute_result"
    }
   ],
   "source": [
    "df['TypeName'].value_counts()"
   ]
  },
  {
   "cell_type": "markdown",
   "metadata": {},
   "source": [
    "# 4. Feature engineering (minimal 1 feature baru)"
   ]
  },
  {
   "cell_type": "markdown",
   "metadata": {},
   "source": [
    "Dalam proses Feature Engineering, kita sering kali melakukan transformasi atau manipulasi data untuk menciptakan fitur baru yang lebih informatif bagi model machine learning. Salah satu metode yang sering digunakan adalah dengan membagi data numerik menjadi kategori (binned categories). Berikut adalah langkah-langkah untuk membuat kategori baru berdasarkan kolom TypeName menggunakan metode binning."
   ]
  },
  {
   "cell_type": "code",
   "execution_count": 23,
   "metadata": {},
   "outputs": [
    {
     "name": "stdout",
     "output_type": "stream",
     "text": [
      "   TypeName      TypeName_Group\n",
      "0       0.0             Unknown\n",
      "1       1.0            Notebook\n",
      "2       2.0           Ultrabook\n",
      "3       3.0             Netbook\n",
      "4       4.0              Gaming\n",
      "5       5.0  2 in 1 Convertible\n",
      "\n",
      "Frekuensi setiap kategori:\n",
      "TypeName_Group\n",
      "Unknown               1\n",
      "Notebook              1\n",
      "Ultrabook             1\n",
      "Netbook               1\n",
      "Gaming                1\n",
      "2 in 1 Convertible    1\n",
      "Name: count, dtype: int64\n"
     ]
    }
   ],
   "source": [
    "data = {\n",
    "    'TypeName': [0.0, 1.0, 2.0, 3.0, 4.0, 5.0]\n",
    "}\n",
    "df = pd.DataFrame(data)\n",
    "\n",
    "# Membuat kategori typename\n",
    "# Ubah bins untuk memiliki 6 titik batas\n",
    "bins = [-1, 0, 1, 2, 3, 4, 5]  # Batas bin\n",
    "# Pastikan ada 5 label untuk 6 batas\n",
    "labels = ['Unknown', 'Notebook', 'Ultrabook', 'Netbook', 'Gaming', '2 in 1 Convertible']\n",
    "\n",
    "# Menambahkan kolom TypeName_Group\n",
    "df['TypeName_Group'] = pd.cut(df['TypeName'], bins=bins, labels=labels, right=True, include_lowest=True)\n",
    "\n",
    "# Lihat hasilnya\n",
    "print(df)\n",
    "\n",
    "# Menampilkan frekuensi setiap kategori\n",
    "print(\"\\nFrekuensi setiap kategori:\")\n",
    "print(df['TypeName_Group'].value_counts())\n"
   ]
  },
  {
   "cell_type": "markdown",
   "metadata": {},
   "source": [
    "Proses ini mengubah data numerik TypeName menjadi kategori yang lebih bermakna bagi analisis atau model machine learning. Kategori ini membantu model untuk lebih mudah memahami hubungan antara tipe laptop dan variabel target, seperti harga atau performa."
   ]
  },
  {
   "cell_type": "markdown",
   "metadata": {},
   "source": [
    "# 5. Splitting data ke dalam data training & data testing"
   ]
  },
  {
   "cell_type": "markdown",
   "metadata": {},
   "source": [
    "### Bagi Training set dan Testing set dengan perbandingan 80 : 20\n",
    "pada bagian ini saya membagi dataset menjadi training set dan testing set dengan proporsi 80 : 20 dengan menggunakan test_size = 0.2"
   ]
  },
  {
   "cell_type": "code",
   "execution_count": 24,
   "metadata": {},
   "outputs": [],
   "source": [
    "X = df.iloc[:,:-1]\n",
    "Y = df.iloc[:,-1]"
   ]
  },
  {
   "cell_type": "code",
   "execution_count": 27,
   "metadata": {},
   "outputs": [],
   "source": [
    "X_train, X_test, Y_train, Y_test = train_test_split(X, Y, test_size=0.2, random_state=42)"
   ]
  },
  {
   "cell_type": "code",
   "execution_count": 29,
   "metadata": {},
   "outputs": [
    {
     "name": "stdout",
     "output_type": "stream",
     "text": [
      "Dimensi X_train : (4, 1)\n",
      "Dimensi X_test  : (2, 1)\n",
      "Dimensi Y_train : (4,)\n",
      "Dimensi Y_test  : (2,)\n"
     ]
    }
   ],
   "source": [
    "print(\"Dimensi X_train :\", X_train.shape)\n",
    "print(\"Dimensi X_test  :\", X_test.shape)\n",
    "print(\"Dimensi Y_train :\", Y_train.shape)\n",
    "print(\"Dimensi Y_test  :\", Y_test.shape)"
   ]
  },
  {
   "cell_type": "markdown",
   "metadata": {},
   "source": [
    "- X_train : Untuk menampung data source yang akan dilatih.\n",
    "- X_test : Untuk menampung data target yang akan dilatih.\n",
    "- Y_train : Untuk menampung data source yang akan digunakan untuk testing.\n",
    "- Y_test : Untuk menampung data target yang akan digunakan untuk testing.\n",
    "- test_size : Mendefinisikan ukuran testing set (0.2 = 20% dari seluruh dataset) dan ukuran train set akan otomatis 0.8 atau 80% dari seluruh dataset\n",
    "random_state pada fungsi seperti train_test_split digunakan untuk memastikan bahwa pemisahan data dilakukan secara konsisten setiap kali kode dijalankan."
   ]
  }
 ],
 "metadata": {
  "kernelspec": {
   "display_name": "Python 3",
   "language": "python",
   "name": "python3"
  },
  "language_info": {
   "codemirror_mode": {
    "name": "ipython",
    "version": 3
   },
   "file_extension": ".py",
   "mimetype": "text/x-python",
   "name": "python",
   "nbconvert_exporter": "python",
   "pygments_lexer": "ipython3",
   "version": "3.10.7"
  }
 },
 "nbformat": 4,
 "nbformat_minor": 2
}
