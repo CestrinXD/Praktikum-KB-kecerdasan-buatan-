{
 "cells": [
  {
   "cell_type": "markdown",
   "metadata": {},
   "source": [
    "## POSTTEST 2 KB\n",
    "TOMMY CANDRA GUNAWAN\n",
    "2209106068\n",
    "INFORMATIKA B1 2022"
   ]
  },
  {
   "cell_type": "markdown",
   "metadata": {},
   "source": [
    "* Import Paket Pandas dan Membaca Dataset\n",
    "\n",
    "Agar bisa menggunakan paket pandas kita perlu melakukan import paker terlebih dahulu, dan kita dapar mengimpor pandas sebagai pd agar lebih singkat.Setelah itu kita deklarasikan DataFrame (df) dengan pd.read_csv untuk membaca file csv agar lebih mudah dan efisien."
   ]
  },
  {
   "cell_type": "code",
   "execution_count": 23,
   "metadata": {},
   "outputs": [],
   "source": [
    "import pandas as pd\n",
    "df = pd.read_csv(\"tourism_dataset.csv\")\n",
    "import matplotlib.pyplot as plt\n",
    "import seaborn as sns"
   ]
  },
  {
   "cell_type": "markdown",
   "metadata": {},
   "source": [
    "# 1. Tampilkan rata-rata, standar deviasi, nilai minimum, nilai maksimum, Q1, Q2, dan Q3 dari attribute bertipe angka.\n",
    "Untuk menampilkan perhitungan statistik terebut kita hanya perlu menggunakan df.describe(), maka akan memunculkan informasi statistik dari data dengan atribut angka. Tampilan berbentuk tabel yang berisi mean(rata-rata), std(standar deviasi), min(nilai minimum), max(nilai maksimum), 25% yang berarti kuartil bawah (Q1), 50% berarti kuartil tengah (Q2), dan 75% berarti kuartil atas (Q3)."
   ]
  },
  {
   "cell_type": "code",
   "execution_count": 24,
   "metadata": {},
   "outputs": [
    {
     "data": {
      "text/html": [
       "<div>\n",
       "<style scoped>\n",
       "    .dataframe tbody tr th:only-of-type {\n",
       "        vertical-align: middle;\n",
       "    }\n",
       "\n",
       "    .dataframe tbody tr th {\n",
       "        vertical-align: top;\n",
       "    }\n",
       "\n",
       "    .dataframe thead th {\n",
       "        text-align: right;\n",
       "    }\n",
       "</style>\n",
       "<table border=\"1\" class=\"dataframe\">\n",
       "  <thead>\n",
       "    <tr style=\"text-align: right;\">\n",
       "      <th></th>\n",
       "      <th>Visitors</th>\n",
       "      <th>Rating</th>\n",
       "      <th>Revenue</th>\n",
       "    </tr>\n",
       "  </thead>\n",
       "  <tbody>\n",
       "    <tr>\n",
       "      <th>count</th>\n",
       "      <td>5989.000000</td>\n",
       "      <td>5989.000000</td>\n",
       "      <td>5989.000000</td>\n",
       "    </tr>\n",
       "    <tr>\n",
       "      <th>mean</th>\n",
       "      <td>501016.089497</td>\n",
       "      <td>3.009347</td>\n",
       "      <td>499479.367253</td>\n",
       "    </tr>\n",
       "    <tr>\n",
       "      <th>std</th>\n",
       "      <td>289783.294978</td>\n",
       "      <td>1.155980</td>\n",
       "      <td>286743.225211</td>\n",
       "    </tr>\n",
       "    <tr>\n",
       "      <th>min</th>\n",
       "      <td>1108.000000</td>\n",
       "      <td>1.000000</td>\n",
       "      <td>1025.810000</td>\n",
       "    </tr>\n",
       "    <tr>\n",
       "      <th>25%</th>\n",
       "      <td>252789.000000</td>\n",
       "      <td>2.010000</td>\n",
       "      <td>251410.450000</td>\n",
       "    </tr>\n",
       "    <tr>\n",
       "      <th>50%</th>\n",
       "      <td>500831.000000</td>\n",
       "      <td>3.000000</td>\n",
       "      <td>494169.350000</td>\n",
       "    </tr>\n",
       "    <tr>\n",
       "      <th>75%</th>\n",
       "      <td>751371.000000</td>\n",
       "      <td>4.010000</td>\n",
       "      <td>742241.240000</td>\n",
       "    </tr>\n",
       "    <tr>\n",
       "      <th>max</th>\n",
       "      <td>999982.000000</td>\n",
       "      <td>5.000000</td>\n",
       "      <td>999999.490000</td>\n",
       "    </tr>\n",
       "  </tbody>\n",
       "</table>\n",
       "</div>"
      ],
      "text/plain": [
       "            Visitors       Rating        Revenue\n",
       "count    5989.000000  5989.000000    5989.000000\n",
       "mean   501016.089497     3.009347  499479.367253\n",
       "std    289783.294978     1.155980  286743.225211\n",
       "min      1108.000000     1.000000    1025.810000\n",
       "25%    252789.000000     2.010000  251410.450000\n",
       "50%    500831.000000     3.000000  494169.350000\n",
       "75%    751371.000000     4.010000  742241.240000\n",
       "max    999982.000000     5.000000  999999.490000"
      ]
     },
     "execution_count": 24,
     "metadata": {},
     "output_type": "execute_result"
    }
   ],
   "source": [
    "df.describe()"
   ]
  },
  {
   "cell_type": "markdown",
   "metadata": {},
   "source": [
    "# 2. Tampilkan 10 record pertama dari dataset dengan attribute bertipe angka\n",
    "Untuk menampilkan 10 record pertama dari dataset dengan attribute bertipe angka kita perlu memilih dahulu atribut bertipe angka dengan select_dtypes number untuk data dengan tipe angka, kemudian .head(10) untuk menampilkan 10 record pertama."
   ]
  },
  {
   "cell_type": "code",
   "execution_count": 25,
   "metadata": {},
   "outputs": [
    {
     "data": {
      "text/html": [
       "<div>\n",
       "<style scoped>\n",
       "    .dataframe tbody tr th:only-of-type {\n",
       "        vertical-align: middle;\n",
       "    }\n",
       "\n",
       "    .dataframe tbody tr th {\n",
       "        vertical-align: top;\n",
       "    }\n",
       "\n",
       "    .dataframe thead th {\n",
       "        text-align: right;\n",
       "    }\n",
       "</style>\n",
       "<table border=\"1\" class=\"dataframe\">\n",
       "  <thead>\n",
       "    <tr style=\"text-align: right;\">\n",
       "      <th></th>\n",
       "      <th>Visitors</th>\n",
       "      <th>Rating</th>\n",
       "      <th>Revenue</th>\n",
       "    </tr>\n",
       "  </thead>\n",
       "  <tbody>\n",
       "    <tr>\n",
       "      <th>0</th>\n",
       "      <td>948853</td>\n",
       "      <td>1.32</td>\n",
       "      <td>84388.38</td>\n",
       "    </tr>\n",
       "    <tr>\n",
       "      <th>1</th>\n",
       "      <td>813627</td>\n",
       "      <td>2.01</td>\n",
       "      <td>802625.60</td>\n",
       "    </tr>\n",
       "    <tr>\n",
       "      <th>2</th>\n",
       "      <td>508673</td>\n",
       "      <td>1.42</td>\n",
       "      <td>338777.11</td>\n",
       "    </tr>\n",
       "    <tr>\n",
       "      <th>3</th>\n",
       "      <td>623329</td>\n",
       "      <td>1.09</td>\n",
       "      <td>295183.60</td>\n",
       "    </tr>\n",
       "    <tr>\n",
       "      <th>4</th>\n",
       "      <td>124867</td>\n",
       "      <td>1.43</td>\n",
       "      <td>547893.24</td>\n",
       "    </tr>\n",
       "    <tr>\n",
       "      <th>5</th>\n",
       "      <td>389886</td>\n",
       "      <td>2.19</td>\n",
       "      <td>943411.34</td>\n",
       "    </tr>\n",
       "    <tr>\n",
       "      <th>6</th>\n",
       "      <td>416933</td>\n",
       "      <td>3.92</td>\n",
       "      <td>744983.22</td>\n",
       "    </tr>\n",
       "    <tr>\n",
       "      <th>7</th>\n",
       "      <td>652046</td>\n",
       "      <td>2.50</td>\n",
       "      <td>796172.02</td>\n",
       "    </tr>\n",
       "    <tr>\n",
       "      <th>8</th>\n",
       "      <td>59309</td>\n",
       "      <td>4.10</td>\n",
       "      <td>588988.55</td>\n",
       "    </tr>\n",
       "    <tr>\n",
       "      <th>9</th>\n",
       "      <td>319068</td>\n",
       "      <td>1.98</td>\n",
       "      <td>239590.44</td>\n",
       "    </tr>\n",
       "  </tbody>\n",
       "</table>\n",
       "</div>"
      ],
      "text/plain": [
       "   Visitors  Rating    Revenue\n",
       "0    948853    1.32   84388.38\n",
       "1    813627    2.01  802625.60\n",
       "2    508673    1.42  338777.11\n",
       "3    623329    1.09  295183.60\n",
       "4    124867    1.43  547893.24\n",
       "5    389886    2.19  943411.34\n",
       "6    416933    3.92  744983.22\n",
       "7    652046    2.50  796172.02\n",
       "8     59309    4.10  588988.55\n",
       "9    319068    1.98  239590.44"
      ]
     },
     "execution_count": 25,
     "metadata": {},
     "output_type": "execute_result"
    }
   ],
   "source": [
    "df.select_dtypes([\"number\"]).head(10)"
   ]
  },
  {
   "cell_type": "markdown",
   "metadata": {},
   "source": [
    "# 3. Tampilkan informasi jumlah record, jumlah attribute, nama attribute, jumlah attribute dengan tipe angka.\n",
    "Kita diminta memasukkan informasi tersebut dalam dictionary dengan key sesuai nama informasinya dan menampilkan isi dari dictionary tersebut sebagus mungkin.\n",
    "Pertama-tama kita deklarasikan beberapa variabel yang nantinya akan dimasukkan ke dalam dictionary. Untuk mengetahui jumlah record kita dapat menggunakan len(df), dan jika ingin mengetahui banyak atribut gunakan len(df.columns) yang akan menghitung panjang/banyak kolom. Kemudian untuk mengetahui nama semua atribut gunakan df.columns. Lalu untuk mengetahui jumlah atribut dengan tipe angka gunakan len lalu select_dtypes[\"number\"].columns untuk memilih atribut dengan tipe angka."
   ]
  },
  {
   "cell_type": "code",
   "execution_count": 26,
   "metadata": {},
   "outputs": [
    {
     "name": "stdout",
     "output_type": "stream",
     "text": [
      "======================================\n",
      "|          Informasi Dataset         |\n",
      "======================================\n",
      " Jumlah Record : 5989 \n",
      "--------------------------------------\n",
      " Jumlah Attribute : 7 \n",
      "--------------------------------------\n",
      " Nama Attribute :\n",
      "  1. Location \n",
      "  2. Country \n",
      "  3. Category \n",
      "  4. Visitors \n",
      "  5. Rating \n",
      "  6. Revenue \n",
      "  7. Accommodation_Available \n",
      "--------------------------------------\n",
      " Jumlah Attribute Tipe Angka : 3 \n",
      "--------------------------------------\n"
     ]
    }
   ],
   "source": [
    "jumlah_record = len(df)\n",
    "jumlah_attribute = len(df.columns)\n",
    "nama_attribute = list(df.columns)\n",
    "attribute_angka = len(df.select_dtypes([\"number\"]).columns)\n",
    "\n",
    "dict = {\n",
    "    'Jumlah Record': jumlah_record,\n",
    "    'Jumlah Attribute': jumlah_attribute,\n",
    "    'Nama Attribute': nama_attribute,\n",
    "    'Jumlah Attribute Tipe Angka': attribute_angka\n",
    "}\n",
    "\n",
    "print(\"======================================\")\n",
    "print(\"|          Informasi Dataset         |\")\n",
    "print(\"======================================\")\n",
    "for key, value in dict.items():\n",
    "    if isinstance(value, int):\n",
    "        print(f\" {key} : {value} \")\n",
    "    elif isinstance(value, list):\n",
    "        i = 1\n",
    "        print(f\" {key} :\")\n",
    "        for item in value:\n",
    "            print(f\"  {i}. {item} \")\n",
    "            i += 1\n",
    "    print(\"--------------------------------------\")"
   ]
  },
  {
   "cell_type": "markdown",
   "metadata": {},
   "source": [
    "# 4. Tampilkan jumlah label dari semua attribute yang bernilai object (contoh : Jenis Kelamin, Agama).\n",
    "Pertama kita harus memilih semua atribut dengan tipe object terlebih dahulu, yaitu dengan menggunakan select_dtypes[\"object\"] kemudian diikuti dengan .value_counts() untuk mengetahui jumlah nilainya. Pada output kita dapat mengetahui jumlah kategori \"Basic\" adalah 8735 dan kategori \"Luxury\" adalah 1265."
   ]
  },
  {
   "cell_type": "code",
   "execution_count": 27,
   "metadata": {},
   "outputs": [
    {
     "data": {
      "text/plain": [
       "Location    Country    Category   Accommodation_Available\n",
       "zzsuiwVQJz  Australia  Urban      No                         1\n",
       "AAbXtbnYmO  Australia  Urban      No                         1\n",
       "AApszztZYj  USA        Adventure  No                         1\n",
       "ABQiNMXwIk  France     Nature     Yes                        1\n",
       "ADHMzOCimO  Australia  Urban      Yes                        1\n",
       "                                                            ..\n",
       "AEscoQoJqa  China      Nature     Yes                        1\n",
       "AEuJwTINDL  Egypt      Beach      Yes                        1\n",
       "AFSKWwlsqT  Brazil     Cultural   Yes                        1\n",
       "AFvSGdEPCD  USA        Nature     No                         1\n",
       "AGibimLgMD  Egypt      Adventure  No                         1\n",
       "Name: count, Length: 5989, dtype: int64"
      ]
     },
     "execution_count": 27,
     "metadata": {},
     "output_type": "execute_result"
    }
   ],
   "source": [
    "df.select_dtypes([\"object\"]).value_counts()\n",
    "# df[\"Location\"].value_counts()"
   ]
  },
  {
   "cell_type": "markdown",
   "metadata": {},
   "source": [
    "# 5. Visualisasikan Dataset dengan Salah Satu Grafik\n",
    "Pada langkah ini, kita akan memvisualisasikan data dari dataset menggunakan grafik. Grafik yang dipilih harus sesuai dengan jenis data yang ada dan tujuan analisis. Misalnya, jika kita ingin melihat distribusi kategori dalam dataset, grafik batang atau histogram mungkin cocok. Jika kita ingin menunjukkan hubungan antara dua variabel numerik, grafik scatter plot bisa menjadi pilihan."
   ]
  },
  {
   "cell_type": "code",
   "execution_count": 28,
   "metadata": {},
   "outputs": [
    {
     "data": {
      "image/png": "[encoded data removed]",
      "text/plain": [
       "<Figure size 800x600 with 1 Axes>"
      ]
     },
     "metadata": {},
     "output_type": "display_data"
    }
   ],
   "source": [
    "# Plot bar chart untuk distribusi 'Accommodation Available'\n",
    "plt.figure(figsize=(8, 6))\n",
    "df['Accommodation_Available'].value_counts().plot(kind='bar', color=['skyblue', 'lightgreen'])\n",
    "plt.title('Distribusi Accommodation Available')\n",
    "plt.xlabel('Accommodation Available')\n",
    "plt.ylabel('Jumlah')\n",
    "plt.xticks(rotation=0)\n",
    "plt.show()"
   ]
  },
  {
   "cell_type": "markdown",
   "metadata": {},
   "source": [
    "# 6. Tampilkan Korelasi Dataset Menggunakan Heatmap\n",
    "Pada langkah ini, kita akan menghitung dan menampilkan matriks korelasi dari dataset menggunakan heatmap. Korelasi menunjukkan hubungan antara variabel-variabel numerik dalam dataset. Heatmap adalah cara visual yang efektif untuk menunjukkan kekuatan dan arah hubungan antara variabel."
   ]
  },
  {
   "cell_type": "code",
   "execution_count": 29,
   "metadata": {},
   "outputs": [
    {
     "data": {
      "image/png": "[encoded data removed]",
      "text/plain": [
       "<Figure size 1200x1000 with 2 Axes>"
      ]
     },
     "metadata": {},
     "output_type": "display_data"
    }
   ],
   "source": [
    "\n",
    "df['Accommodation_Available'] = df['Accommodation_Available'].astype('category').cat.codes\n",
    "\n",
    "df_encoded = pd.get_dummies(df)\n",
    "\n",
    "numerical_df = df_encoded.select_dtypes(include=['float64', 'int64'])\n",
    "\n",
    "corr_matrix = numerical_df.corr()\n",
    "\n",
    "plt.figure(figsize=(12, 10))\n",
    "sns.heatmap(corr_matrix, annot=True, cmap='coolwarm', linewidths=0.5, fmt='.2f')\n",
    "plt.title('Heatmap Korelasi Dataset dengan Fokus pada Accommodation Available', fontsize=16)\n",
    "plt.show()"
   ]
  },
  {
   "cell_type": "markdown",
   "metadata": {},
   "source": [
    "### Kesimpulan\n",
    "\n",
    "1. **Distribusi Accommodation Available**:\n",
    "   Grafik batang menunjukkan distribusi jumlah akomodasi yang tersedia dalam dataset. Dengan visualisasi ini, kita dapat melihat frekuensi dari setiap kategori akomodasi, yang membantu memahami pola prevalensi dan popularitas akomodasi di antara para wisatawan.\n",
    "\n",
    "2. **Heatmap Korelasi**:\n",
    "   Heatmap korelasi memberikan gambaran tentang hubungan antara variabel numerik dalam dataset. Korelasi positif menunjukkan bahwa variabel-variabel tersebut bergerak dalam arah yang sama, sementara korelasi negatif menunjukkan bahwa variabel-variabel tersebut bergerak dalam arah yang berlawanan. Misalnya, jika terdapat korelasi tinggi antara variabel **\"biaya perjalanan\"** dan **\"durasi perjalanan\"**, ini mungkin menunjukkan bahwa biaya perjalanan lebih tinggi pada perjalanan yang lebih lama.\n"
   ]
  },
  {
   "cell_type": "markdown",
   "metadata": {},
   "source": []
  }
 ],
 "metadata": {
  "kernelspec": {
   "display_name": "Python 3",
   "language": "python",
   "name": "python3"
  },
  "language_info": {
   "codemirror_mode": {
    "name": "ipython",
    "version": 3
   },
   "file_extension": ".py",
   "mimetype": "text/x-python",
   "name": "python",
   "nbconvert_exporter": "python",
   "pygments_lexer": "ipython3",
   "version": "3.10.7"
  }
 },
 "nbformat": 4,
 "nbformat_minor": 2
}
